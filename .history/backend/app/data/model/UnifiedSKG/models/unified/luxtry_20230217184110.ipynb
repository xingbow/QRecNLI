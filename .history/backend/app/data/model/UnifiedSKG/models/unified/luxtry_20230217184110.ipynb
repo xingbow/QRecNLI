import lux
import pandas as pd
df = pd.read_csv("https://raw.githubusercontent.com/lux-org/lux-datasets/master/data/college.csv")
df
print(df)