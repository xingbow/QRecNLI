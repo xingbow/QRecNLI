{
 "cells": [
  {
   "cell_type": "code",
   "execution_count": null,
   "id": "0c36d96d",
   "metadata": {},
   "outputs": [],
   "source": [
    "import os\n",
    "import re\n",
    "import sys\n",
    "import copy\n",
    "\n",
    "ROOT = os.path.join(os.path.dirname(os.getcwd()), 'backend')\n",
    "if ROOT not in sys.path:\n",
    "    sys.path.append(ROOT)\n",
    "    \n",
    "from moz_sql_parser import parse as ps\n",
    "sys.setrecursionlimit(1000000)\n",
    "import json\n",
    "import os\n",
    "import pandas as pd\n",
    "from termcolor import colored\n",
    "import numpy as np\n",
    "from sentence_transformers import SentenceTransformer, util\n",
    "from sklearn.cluster import AgglomerativeClustering\n",
    "model = SentenceTransformer('paraphrase-MiniLM-L6-v2')"
   ]
  },
  {
   "cell_type": "code",
   "execution_count": null,
   "id": "05ff1929",
   "metadata": {},
   "outputs": [],
   "source": [
    "from app.dataService.dataService import DataService"
   ]
  },
  {
   "cell_type": "code",
   "execution_count": null,
   "id": "146f5a29",
   "metadata": {
    "scrolled": true
   },
   "outputs": [],
   "source": [
    "# Generate SQL and the execution results from the plain text\n",
    "text = \"films and film prices that cost below 10 dollars\"\n",
    "db_id = \"cinema\"\n",
    "dataService = DataService(\"spider\")"
   ]
  },
  {
   "cell_type": "code",
   "execution_count": null,
   "id": "3e65ab9c",
   "metadata": {},
   "outputs": [],
   "source": [
    "# read spider dataset\n",
    "dataset_type = \"train_spider\"\n",
    "# dataset_type=\"dev\"\n",
    "with open(f\"../backend/app/data/dataset/spider/{dataset_type}.json\", \"r\") as f:\n",
    "    spider_data = json.load(f)\n",
    "df = pd.DataFrame(spider_data)"
   ]
  },
  {
   "cell_type": "code",
   "execution_count": null,
   "id": "99bc6744",
   "metadata": {
    "scrolled": false
   },
   "outputs": [],
   "source": [
    "df.head()"
   ]
  },
  {
   "cell_type": "markdown",
   "id": "a3c54b0b",
   "metadata": {},
   "source": [
    "## Parse SQL using spider parser\n",
    "### Assumptions:\n",
    "  1. sql is correct\n",
    "  2. only table name has alias\n",
    "  3. only one intersect/union/except\n",
    "\n",
    "- `val`: number(float)/string(str)/sql(dict)\n",
    "- `col_unit`: (agg_id, col_id, isDistinct(bool))\n",
    "- `val_unit`: (unit_op, col_unit1, col_unit2)\n",
    "- `table_unit`: (table_type, table_id/sql) :table_type: table_unit, sql\n",
    "- `cond_unit`: (not_op, op_id, val_unit, val1, val2)\n",
    "- `condition`: [cond_unit1, 'and'/'or', cond_unit2, ...]\n",
    "\n",
    "```\n",
    "sql {\n",
    "  'select': (isDistinct(bool), [(agg_id, val_unit), (agg_id, val_unit), ...])\n",
    "  'from': {'table_units': [table_unit1, table_unit2, ...], 'conds': condition}\n",
    "  'where': condition\n",
    "  'groupBy': [col_unit1, col_unit2, ...]\n",
    "  'orderBy': ('asc'/'desc', [val_unit1, val_unit2, ...])\n",
    "  'having': condition\n",
    "  'limit': None/limit value\n",
    "  'intersect': None/sql\n",
    "  'except': None/sql\n",
    "  'union': None/sql\n",
    "}\n",
    "```"
   ]
  },
  {
   "cell_type": "code",
   "execution_count": null,
   "id": "89c1d4e6",
   "metadata": {
    "scrolled": true
   },
   "outputs": [],
   "source": [
    "from app.dataService.utils.processSQL import decode_sql\n",
    "\n",
    "for rowid, row in df.iterrows():\n",
    "    if (dataset_type==\"train_spider\" and rowid != 3153) or dataset_type == \"dev\":\n",
    "        db_id = row[\"db_id\"]\n",
    "        sql = row[\"query\"]\n",
    "        parsed = dataService.parsesql(sql, db_id)\n",
    "        table = parsed[\"table\"]\n",
    "        sql_parse = parsed[\"sql_parse\"]\n",
    "        \n",
    "        # decode sql (whole statement)\n",
    "        sql_decoded = decode_sql.decode_sql(sql_parse, table)\n",
    "        \n",
    "        # decode select\n",
    "        ### IMPORTANT: here we use whole sql_data as input since * may be used in the select clause, \n",
    "        ### we need from clause to identify the corresponding tables\n",
    "        select_decoded = decode_sql.decode_select(sql_parse, table)\n",
    "        \n",
    "        # decode from\n",
    "        from_decoded = decode_sql.decode_from(sql_parse[\"from\"], table)\n",
    "        \n",
    "        # decode where\n",
    "        where_decoded = decode_sql.decode_where(sql_parse[\"where\"], table)\n",
    "        \n",
    "        # decode groupBy\n",
    "        groupby_decoded = decode_sql.decode_groupby(sql_parse[\"groupBy\"], table)\n",
    "        \n",
    "        # decode orderBy\n",
    "        orderby_decoded = decode_sql.decode_orderby(sql_parse[\"orderBy\"], table)\n",
    "        \n",
    "        # decode having\n",
    "        having_decoded = decode_sql.decode_having(sql_parse[\"having\"], table)\n",
    "        \n",
    "        # decode limit\n",
    "        limit_decoded = decode_sql.decode_limit(sql_parse[\"limit\"], table)\n",
    "        \n",
    "        # decode intersect\n",
    "        intersect_decoded = decode_sql.decode_intersect(sql_parse[\"intersect\"], table)\n",
    "        \n",
    "        # decode except\n",
    "        except_decoded = decode_sql.decode_except(sql_parse[\"except\"], table)\n",
    "        \n",
    "        # decode union\n",
    "        union_decoded = decode_sql.decode_union(sql_parse[\"union\"], table)\n",
    "        \n",
    "        if rowid == 0:\n",
    "            print(sql)\n",
    "            print(f\"sql_decoded: {sql_decoded}\")\n",
    "            print(\"*\"*10)\n",
    "            print(f\"select_decoded: {select_decoded}\")\n",
    "            print(\"*\"*10)\n",
    "            print(f\"from_decoded: {from_decoded}\")\n",
    "            print(\"*\"*10)\n",
    "            print(f\"where_decoded: {where_decoded}\")\n",
    "            print(\"*\"*10)\n",
    "            print(f\"groupby_decoded: {groupby_decoded}\")\n",
    "            print(\"*\"*10)\n",
    "            print(f\"orderby_decoded: {orderby_decoded}\")\n",
    "            print(\"*\"*10)\n",
    "            print(f\"having_decoded: {having_decoded}\")\n",
    "            print(\"*\"*10)\n",
    "            print(f\"limit_decoded: {limit_decoded}\")\n",
    "            print(\"*\"*10)\n",
    "            print(f\"intersect_decoded: {intersect_decoded}\")\n",
    "            print(\"*\"*10)\n",
    "            print(f\"except_decoded: {except_decoded}\")\n",
    "            print(\"*\"*10)\n",
    "            print(f\"union_decoded: {union_decoded}\")\n",
    "            print(\"*\"*10)"
   ]
  },
  {
   "cell_type": "code",
   "execution_count": null,
   "id": "38b91565",
   "metadata": {},
   "outputs": [],
   "source": []
  }
 ],
 "metadata": {
  "kernelspec": {
   "display_name": "Python [conda env:chi2022] *",
   "language": "python",
   "name": "conda-env-chi2022-py"
  },
  "language_info": {
   "codemirror_mode": {
    "name": "ipython",
    "version": 3
   },
   "file_extension": ".py",
   "mimetype": "text/x-python",
   "name": "python",
   "nbconvert_exporter": "python",
   "pygments_lexer": "ipython3",
   "version": "3.7.11"
  }
 },
 "nbformat": 4,
 "nbformat_minor": 5
}
