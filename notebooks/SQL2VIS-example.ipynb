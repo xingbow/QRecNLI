{
 "cells": [
  {
   "cell_type": "code",
   "execution_count": 8,
   "id": "a8dacf87",
   "metadata": {},
   "outputs": [],
   "source": [
    "import os\n",
    "import re\n",
    "import sys\n",
    "import copy\n",
    "\n",
    "ROOT = os.path.join(os.path.dirname(os.getcwd()), 'backend')\n",
    "if ROOT not in sys.path:\n",
    "    sys.path.append(ROOT)\n",
    "    \n",
    "import pandas as pd"
   ]
  },
  {
   "cell_type": "code",
   "execution_count": 9,
   "id": "5560352e",
   "metadata": {},
   "outputs": [],
   "source": [
    "from app.dataService.dataService import DataService"
   ]
  },
  {
   "cell_type": "code",
   "execution_count": 10,
   "id": "b36ddd15",
   "metadata": {},
   "outputs": [],
   "source": [
    "# Example text\n",
    "text = \"films and film prices that cost below 10 dollars\"\n",
    "db_id = \"cinema\""
   ]
  },
  {
   "cell_type": "code",
   "execution_count": 11,
   "id": "cd7d471e",
   "metadata": {},
   "outputs": [
    {
     "name": "stdout",
     "output_type": "stream",
     "text": [
      "=== begin loading model ===\n",
      "before load_trees\n",
      "before connecting\n",
      "before load_trees\n",
      "before connecting\n",
      "{'amp': True, 'base_dim': 32, 'batch_size': 20, 'beam_encoder_num_layers': 1, 'cntx_beam': False, 'cntx_rep': False, 'cntx_reranker': True, 'debug': False, 'disentangle_cntx': True, 'embedding_dim': 256, 'grad_acum': 4, 'grad_clip': None, 'grad_norm': None, 'is_oracle': False, 'lin_after_cntx': False, 'lm_lr': 3e-06, 'load_less': False, 'lr': 0.000186, 'max_steps': 60000, 'num_heads': 8, 'power': 0.5, 'rat_dropout': 0.2, 'rat_layers': 8, 'should_rerank': False, 'temperature': 1, 'tfixup': False, 'tiny_dataset': False, 'train_as_dev': False, 'tree_rep_transformer_num_layers': 1, 'uniquify': False, 'use_bce': False, 'use_treelstm': False, 'utt_aug': True, 'value_pred': True}\n",
      "=== finish loading model ===\n",
      "sql:  SELECT film.title , schedule.price FROM schedule JOIN film ON schedule.film_id = film.film_id WHERE schedule.price<10\n"
     ]
    }
   ],
   "source": [
    "# Generate SQL and the execution results from the plain text\n",
    "\n",
    "dataService = DataService(\"spider\")\n",
    "result = dataService.text2sql(text, db_id)"
   ]
  },
  {
   "cell_type": "code",
   "execution_count": 12,
   "id": "6720be19",
   "metadata": {},
   "outputs": [
    {
     "data": {
      "text/plain": [
       "[{'$schema': 'https://vega.github.io/schema/vega-lite/v4.json',\n",
       "  'mark': {'type': 'bar', 'tooltip': True},\n",
       "  'encoding': {'y': {'field': 'price',\n",
       "    'type': 'quantitative',\n",
       "    'aggregate': 'mean',\n",
       "    'axis': {'format': 's'}},\n",
       "   'x': {'field': 'title', 'type': 'nominal'}},\n",
       "  'transform': [],\n",
       "  'data': {'values': [{'title': 'The Case: Off the Record', 'price': 8.99},\n",
       "    {'title': 'The Case of the Mystery Weekend', 'price': 9.99},\n",
       "    {'title': 'The Case of the Bermuda Triangle', 'price': 9.99}]}},\n",
       " {'$schema': 'https://vega.github.io/schema/vega-lite/v4.json',\n",
       "  'mark': {'type': 'arc', 'tooltip': True},\n",
       "  'encoding': {'theta': {'field': 'price',\n",
       "    'type': 'quantitative',\n",
       "    'aggregate': 'mean'},\n",
       "   'color': {'field': 'title', 'type': 'nominal'}},\n",
       "  'transform': [],\n",
       "  'data': {'values': [{'title': 'The Case: Off the Record', 'price': 8.99},\n",
       "    {'title': 'The Case of the Mystery Weekend', 'price': 9.99},\n",
       "    {'title': 'The Case of the Bermuda Triangle', 'price': 9.99}]}},\n",
       " {'$schema': 'https://vega.github.io/schema/vega-lite/v4.json',\n",
       "  'mark': {'type': 'arc', 'innerRadius': 50, 'tooltip': True},\n",
       "  'encoding': {'theta': {'field': 'price',\n",
       "    'type': 'quantitative',\n",
       "    'aggregate': 'mean'},\n",
       "   'color': {'field': 'title', 'type': 'nominal'}},\n",
       "  'transform': [],\n",
       "  'data': {'values': [{'title': 'The Case: Off the Record', 'price': 8.99},\n",
       "    {'title': 'The Case of the Mystery Weekend', 'price': 9.99},\n",
       "    {'title': 'The Case of the Bermuda Triangle', 'price': 9.99}]}},\n",
       " {'$schema': 'https://vega.github.io/schema/vega-lite/v4.json',\n",
       "  'mark': {'type': 'tick', 'tooltip': True},\n",
       "  'encoding': {'y': {'field': 'price',\n",
       "    'type': 'quantitative',\n",
       "    'axis': {'format': 's'}},\n",
       "   'x': {'field': 'title', 'type': 'nominal'}},\n",
       "  'transform': [],\n",
       "  'data': {'values': [{'title': 'The Case: Off the Record', 'price': 8.99},\n",
       "    {'title': 'The Case of the Mystery Weekend', 'price': 9.99},\n",
       "    {'title': 'The Case of the Bermuda Triangle', 'price': 9.99}]}}]"
      ]
     },
     "execution_count": 12,
     "metadata": {},
     "output_type": "execute_result"
    }
   ],
   "source": [
    "# Generate Vega-Lite specifications from the sql and the its returns\n",
    "\n",
    "vl_specs = dataService.sql2vl(result[0], result[1])\n",
    "vl_specs"
   ]
  },
  {
   "cell_type": "code",
   "execution_count": 13,
   "id": "12e3311a",
   "metadata": {},
   "outputs": [
    {
     "data": {
      "application/javascript": [
       "const spec = {\"$schema\": \"https://vega.github.io/schema/vega-lite/v4.json\", \"mark\": {\"type\": \"bar\", \"tooltip\": true}, \"encoding\": {\"y\": {\"field\": \"price\", \"type\": \"quantitative\", \"aggregate\": \"mean\", \"axis\": {\"format\": \"s\"}}, \"x\": {\"field\": \"title\", \"type\": \"nominal\"}}, \"transform\": [], \"data\": {\"values\": [{\"title\": \"The Case: Off the Record\", \"price\": 8.99}, {\"title\": \"The Case of the Mystery Weekend\", \"price\": 9.99}, {\"title\": \"The Case of the Bermuda Triangle\", \"price\": 9.99}]}};\n",
       "const opt = {};\n",
       "const type = \"vega-lite\";\n",
       "const id = \"801a25a9-7f9e-4187-a86b-d4fbfe5f30e0\";\n",
       "\n",
       "const output_area = this;\n",
       "\n",
       "require([\"nbextensions/jupyter-vega/index\"], function(vega) {\n",
       "  const target = document.createElement(\"div\");\n",
       "  target.id = id;\n",
       "  target.className = \"vega-embed\";\n",
       "\n",
       "  const style = document.createElement(\"style\");\n",
       "  style.textContent = [\n",
       "    \".vega-embed .error p {\",\n",
       "    \"  color: firebrick;\",\n",
       "    \"  font-size: 14px;\",\n",
       "    \"}\",\n",
       "  ].join(\"\\\\n\");\n",
       "\n",
       "  // element is a jQuery wrapped DOM element inside the output area\n",
       "  // see http://ipython.readthedocs.io/en/stable/api/generated/\\\n",
       "  // IPython.display.html#IPython.display.Javascript.__init__\n",
       "  element[0].appendChild(target);\n",
       "  element[0].appendChild(style);\n",
       "\n",
       "  vega.render(\"#\" + id, spec, type, opt, output_area);\n",
       "}, function (err) {\n",
       "  if (err.requireType !== \"scripterror\") {\n",
       "    throw(err);\n",
       "  }\n",
       "});\n"
      ],
      "text/plain": [
       "<vega.vegalite.VegaLite at 0x7f8cc01f0b50>"
      ]
     },
     "execution_count": 13,
     "metadata": {
      "jupyter-vega": "#801a25a9-7f9e-4187-a86b-d4fbfe5f30e0"
     },
     "output_type": "execute_result"
    },
    {
     "data": {
      "image/png": "[encoded data removed]"
     },
     "metadata": {
      "jupyter-vega": "#801a25a9-7f9e-4187-a86b-d4fbfe5f30e0"
     },
     "output_type": "display_data"
    }
   ],
   "source": [
    "# Draw charts\n",
    "\n",
    "from vega import VegaLite\n",
    "\n",
    "df = pd.DataFrame(vl_specs[0]['data']['values'])\n",
    "VegaLite(vl_specs[0], df)"
   ]
  },
  {
   "cell_type": "code",
   "execution_count": null,
   "id": "499ea417",
   "metadata": {},
   "outputs": [],
   "source": []
  }
 ],
 "metadata": {
  "kernelspec": {
   "display_name": "Python [conda env:chi2022] *",
   "language": "python",
   "name": "conda-env-chi2022-py"
  },
  "language_info": {
   "codemirror_mode": {
    "name": "ipython",
    "version": 3
   },
   "file_extension": ".py",
   "mimetype": "text/x-python",
   "name": "python",
   "nbconvert_exporter": "python",
   "pygments_lexer": "ipython3",
   "version": "3.7.10"
  }
 },
 "nbformat": 4,
 "nbformat_minor": 5
}
