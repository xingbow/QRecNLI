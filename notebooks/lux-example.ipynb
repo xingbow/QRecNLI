{
 "cells": [
  {
   "cell_type": "code",
   "execution_count": 1,
   "id": "a9a67305",
   "metadata": {},
   "outputs": [],
   "source": [
    "import lux\n",
    "import pandas as pd"
   ]
  },
  {
   "cell_type": "code",
   "execution_count": 7,
   "id": "410bae9a",
   "metadata": {},
   "outputs": [
    {
     "data": {
      "application/vnd.jupyter.widget-view+json": {
       "model_id": "bd44909282484648944a29210befee10",
       "version_major": 2,
       "version_minor": 0
      },
      "text/plain": [
       "Button(description='Toggle Pandas/Lux', layout=Layout(top='5px', width='140px'), style=ButtonStyle())"
      ]
     },
     "metadata": {},
     "output_type": "display_data"
    },
    {
     "data": {
      "application/vnd.jupyter.widget-view+json": {
       "model_id": "269964a58a3e4943ac80faddbe2cc0bf",
       "version_major": 2,
       "version_minor": 0
      },
      "text/plain": [
       "Output()"
      ]
     },
     "metadata": {},
     "output_type": "display_data"
    }
   ],
   "source": [
    "df = pd.read_csv(\"https://raw.githubusercontent.com/lux-org/lux-datasets/master/data/college.csv\")\n",
    "df"
   ]
  },
  {
   "cell_type": "code",
   "execution_count": 10,
   "id": "bf943f45",
   "metadata": {},
   "outputs": [
    {
     "data": {
      "text/plain": [
       "dict_keys(['Correlation', 'Distribution', 'Occurrence'])"
      ]
     },
     "execution_count": 10,
     "metadata": {},
     "output_type": "execute_result"
    }
   ],
   "source": [
    "df.recommendation.keys()"
   ]
  },
  {
   "cell_type": "code",
   "execution_count": 11,
   "id": "be9ed5c1",
   "metadata": {},
   "outputs": [
    {
     "data": {
      "application/vnd.jupyter.widget-view+json": {
       "model_id": "54b014f83d2a4d5daf9d001ec6591d96",
       "version_major": 2,
       "version_minor": 0
      },
      "text/plain": [
       "LuxWidget(recommendations=[{'action': 'Vis List', 'description': 'Shows a vis list defined by the intent', 'vs…"
      ]
     },
     "metadata": {},
     "output_type": "display_data"
    }
   ],
   "source": [
    "df.recommendation[\"Correlation\"]"
   ]
  },
  {
   "cell_type": "code",
   "execution_count": 3,
   "id": "1c407188",
   "metadata": {},
   "outputs": [],
   "source": [
    "df.intent = [\"AverageCost\",\"SATAverage\"]"
   ]
  },
  {
   "cell_type": "code",
   "execution_count": 16,
   "id": "9ecbd9d8",
   "metadata": {},
   "outputs": [
    {
     "data": {
      "application/vnd.jupyter.widget-view+json": {
       "model_id": "eb07d3098c224b0ca9b449c19b580f9f",
       "version_major": 2,
       "version_minor": 0
      },
      "text/plain": [
       "LuxWidget(current_vis={'config': {'view': {'continuousWidth': 400, 'continuousHeight': 300}, 'axis': {'labelCo…"
      ]
     },
     "metadata": {},
     "output_type": "display_data"
    }
   ],
   "source": [
    "from lux.vis.Vis import Vis\n",
    "intent = [\"AverageCost\",\"SATAverage\"]\n",
    "vis = Vis(intent,df)\n",
    "vis"
   ]
  },
  {
   "cell_type": "code",
   "execution_count": 6,
   "id": "93440e71",
   "metadata": {},
   "outputs": [
    {
     "data": {
      "text/plain": [
       "{'Enhance': [<Vis  (x: AverageCost, y: SATAverage, color: PredominantDegree) mark: scatter, score: 0.33 >,\n",
       "  <Vis  (x: AverageCost, y: SATAverage, color: HighestDegree) mark: scatter, score: 0.33 >,\n",
       "  <Vis  (x: AverageCost, y: SATAverage, color: FundingModel) mark: scatter, score: 0.33 >,\n",
       "  <Vis  (x: AverageCost, y: SATAverage, color: Region) mark: scatter, score: 0.12 >,\n",
       "  <Vis  (x: AverageCost, y: SATAverage, color: ACTMedian) mark: scatter, score: 0.10 >,\n",
       "  <Vis  (x: AverageCost, y: SATAverage, color: AverageFacultySalary) mark: scatter, score: 0.10 >,\n",
       "  <Vis  (x: AverageCost, y: SATAverage, color: MedianDebt) mark: scatter, score: 0.10 >,\n",
       "  <Vis  (x: AverageCost, y: SATAverage, color: Expenditure) mark: scatter, score: 0.10 >,\n",
       "  <Vis  (x: AverageCost, y: SATAverage, color: AdmissionRate) mark: scatter, score: 0.10 >,\n",
       "  <Vis  (x: AverageCost, y: SATAverage, color: MedianEarnings) mark: scatter, score: 0.10 >,\n",
       "  <Vis  (x: AverageCost, y: SATAverage, color: AverageAgeofEntry) mark: scatter, score: 0.10 >,\n",
       "  <Vis  (x: AverageCost, y: SATAverage, color: MedianFamilyIncome) mark: scatter, score: 0.10 >,\n",
       "  <Vis  (x: AverageCost, y: SATAverage, color: Geography) mark: scatter, score: 0.08 >],\n",
       " 'Filter': [<Vis  (x: AverageCost, y: SATAverage  -- [HighestDegree=Bachelor's]     ) mark: scatter, score: 0.78 >,\n",
       "  <Vis  (x: AverageCost, y: SATAverage  -- [FundingModel=Private]         ) mark: scatter, score: 0.73 >,\n",
       "  <Vis  (x: AverageCost, y: SATAverage  -- [Geography=Fringe Town]        ) mark: scatter, score: 0.69 >,\n",
       "  <Vis  (x: AverageCost, y: SATAverage  -- [Region=New England]           ) mark: scatter, score: 0.65 >,\n",
       "  <Vis  (x: AverageCost, y: SATAverage  -- [Geography=Distant Town]       ) mark: scatter, score: 0.64 >,\n",
       "  <Vis  (x: AverageCost, y: SATAverage  -- [Region=Mid-Atlantic]          ) mark: scatter, score: 0.62 >,\n",
       "  <Vis  (x: AverageCost, y: SATAverage  -- [Region=Far West]              ) mark: scatter, score: 0.61 >,\n",
       "  <Vis  (x: AverageCost, y: SATAverage  -- [Region=Southwest]             ) mark: scatter, score: 0.59 >,\n",
       "  <Vis  (x: AverageCost, y: SATAverage  -- [Geography=Large Suburb]       ) mark: scatter, score: 0.58 >,\n",
       "  <Vis  (x: AverageCost, y: SATAverage  -- [Region=Great Lakes]           ) mark: scatter, score: 0.57 >,\n",
       "  <Vis  (x: AverageCost, y: SATAverage  -- [Geography=Large City]         ) mark: scatter, score: 0.57 >,\n",
       "  <Vis  (x: AverageCost, y: SATAverage  -- [Geography=Mid-size City]      ) mark: scatter, score: 0.56 >,\n",
       "  <Vis  (x: AverageCost, y: SATAverage  -- [PredominantDegree=Bachelor's] ) mark: scatter, score: 0.55 >,\n",
       "  <Vis  (x: AverageCost, y: SATAverage  -- [Region=Rocky Mountains]       ) mark: scatter, score: 0.53 >,\n",
       "  <Vis  (x: AverageCost, y: SATAverage  -- [ACTMedian=32]                 ) mark: scatter, score: 0.52 >],\n",
       " 'Generalize': [<Vis  (x: BIN(SATAverage) , y: COUNT(Record)) mark: histogram, score: 1.00 >,\n",
       "  <Vis  (x: BIN(AverageCost), y: COUNT(Record)) mark: histogram, score: 1.00 >]}"
      ]
     },
     "execution_count": 6,
     "metadata": {},
     "output_type": "execute_result"
    }
   ],
   "source": [
    "df.recommendation"
   ]
  },
  {
   "cell_type": "code",
   "execution_count": 17,
   "id": "a1e3cab9",
   "metadata": {},
   "outputs": [],
   "source": [
    "url = 'https://github.com/lux-org/lux-datasets/blob/master/data/olympic.csv?raw=true'\n",
    "df = pd.read_csv(url)\n",
    "df[\"Year\"] = pd.to_datetime(df[\"Year\"], format='%Y') # change pandas dtype for the column \"Year\" to datetype"
   ]
  },
  {
   "cell_type": "code",
   "execution_count": 18,
   "id": "ec384618",
   "metadata": {},
   "outputs": [
    {
     "data": {
      "application/vnd.jupyter.widget-view+json": {
       "model_id": "5e41673e11de483daeede2e3ca1f5831",
       "version_major": 2,
       "version_minor": 0
      },
      "text/plain": [
       "LuxWidget(recommendations=[{'action': 'Vis List', 'description': 'Shows a vis list defined by the intent', 'vs…"
      ]
     },
     "metadata": {},
     "output_type": "display_data"
    }
   ],
   "source": [
    "from lux.vis.VisList import VisList\n",
    "vc = VisList([\"Weight\",\"?\"],df)\n",
    "vc"
   ]
  },
  {
   "cell_type": "code",
   "execution_count": 28,
   "id": "5d420574",
   "metadata": {},
   "outputs": [
    {
     "data": {
      "application/vnd.jupyter.widget-view+json": {
       "model_id": "09480af4efa04a5495125c2666907df0",
       "version_major": 2,
       "version_minor": 0
      },
      "text/plain": [
       "Button(description='Toggle Pandas/Lux', layout=Layout(top='5px', width='140px'), style=ButtonStyle())"
      ]
     },
     "metadata": {},
     "output_type": "display_data"
    },
    {
     "data": {
      "application/vnd.jupyter.widget-view+json": {
       "model_id": "9189a20b40924f819e194d2e897bb7a5",
       "version_major": 2,
       "version_minor": 0
      },
      "text/plain": [
       "Output()"
      ]
     },
     "metadata": {},
     "output_type": "display_data"
    }
   ],
   "source": [
    "vc[0].data"
   ]
  },
  {
   "cell_type": "code",
   "execution_count": 36,
   "id": "3f894df8",
   "metadata": {},
   "outputs": [
    {
     "data": {
      "text/plain": [
       "{'config': {'view': {'continuousWidth': 400, 'continuousHeight': 300},\n",
       "  'axis': {'labelColor': '#505050',\n",
       "   'labelFont': 'Helvetica Neue',\n",
       "   'labelFontSize': 9,\n",
       "   'labelFontWeight': 400,\n",
       "   'titleFont': 'Helvetica Neue',\n",
       "   'titleFontSize': 11,\n",
       "   'titleFontWeight': 500},\n",
       "  'legend': {'labelFont': 'Helvetica Neue',\n",
       "   'labelFontSize': 9,\n",
       "   'labelFontWeight': 400,\n",
       "   'titleFont': 'Helvetica Neue',\n",
       "   'titleFontSize': 10,\n",
       "   'titleFontWeight': 500},\n",
       "  'mark': {'tooltip': {'content': 'encoding'}},\n",
       "  'title': {'font': 'Helvetica Neue', 'fontSize': 13, 'fontWeight': 500}},\n",
       " 'data': {'name': 'data-71bef17ef5c5fda82c80c6e0cc08604a'},\n",
       " 'mark': 'bar',\n",
       " 'encoding': {'x': {'axis': {'title': 'Mean of Weight'},\n",
       "   'field': 'Weight',\n",
       "   'title': 'Mean of Weight',\n",
       "   'type': 'quantitative'},\n",
       "  'y': {'axis': {'labelOverlap': True, 'title': 'HostRegion'},\n",
       "   'field': 'HostRegion',\n",
       "   'type': 'nominal'}},\n",
       " 'height': 150,\n",
       " 'width': 160,\n",
       " '$schema': 'https://vega.github.io/schema/vega-lite/v4.17.0.json',\n",
       " 'datasets': {'data-71bef17ef5c5fda82c80c6e0cc08604a': [{'HostRegion': 'Asia',\n",
       "    'Weight': 73.65336374002281},\n",
       "   {'HostRegion': 'Europe', 'Weight': 73.30489447687472},\n",
       "   {'HostRegion': 'North America', 'Weight': 74.0627687016337},\n",
       "   {'HostRegion': 'Oceania', 'Weight': 74.23614457831326},\n",
       "   {'HostRegion': 'South America', 'Weight': 73.50628930817611}]},\n",
       " 'vislib': 'vegalite'}"
      ]
     },
     "execution_count": 36,
     "metadata": {},
     "output_type": "execute_result"
    }
   ],
   "source": [
    "import json\n",
    "json.loads(vc[0].to_vegalite().replace(\"** Remove this comment -- Copy Text Below to Vega Editor(vega.github.io/editor) to visualize and edit **\\n\", \"\"))"
   ]
  },
  {
   "cell_type": "code",
   "execution_count": 37,
   "id": "0f46aeb7",
   "metadata": {},
   "outputs": [],
   "source": [
    "import sys\n",
    "sys.path.append(\"../backend/app/dataService/\")"
   ]
  }
 ],
 "metadata": {
  "kernelspec": {
   "display_name": "Python 3",
   "language": "python",
   "name": "python3"
  },
  "language_info": {
   "codemirror_mode": {
    "name": "ipython",
    "version": 3
   },
   "file_extension": ".py",
   "mimetype": "text/x-python",
   "name": "python",
   "nbconvert_exporter": "python",
   "pygments_lexer": "ipython3",
   "version": "3.7.11"
  },
  "vscode": {
   "interpreter": {
    "hash": "3f246e5e0b780cff6692c850ed8f2e5eaa51f89bb777f469682da44ca9c843b3"
   }
  }
 },
 "nbformat": 4,
 "nbformat_minor": 5
}
