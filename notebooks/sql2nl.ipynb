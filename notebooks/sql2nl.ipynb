{
 "cells": [
  {
   "cell_type": "code",
   "execution_count": 1,
   "id": "0c36d96d",
   "metadata": {},
   "outputs": [],
   "source": [
    "import os\n",
    "import re\n",
    "import sys\n",
    "import copy\n",
    "\n",
    "ROOT = os.path.join(os.path.dirname(os.getcwd()), 'backend')\n",
    "if ROOT not in sys.path:\n",
    "    sys.path.append(ROOT)\n",
    "    \n",
    "import json\n",
    "import os\n",
    "import pandas as pd\n",
    "from termcolor import colored\n",
    "import numpy as np\n",
    "from sentence_transformers import SentenceTransformer, util\n",
    "from sklearn.cluster import AgglomerativeClustering\n",
    "model = SentenceTransformer('paraphrase-MiniLM-L6-v2')"
   ]
  },
  {
   "cell_type": "code",
   "execution_count": 2,
   "id": "05ff1929",
   "metadata": {},
   "outputs": [],
   "source": [
    "from app.dataService.dataService import DataService"
   ]
  },
  {
   "cell_type": "code",
   "execution_count": 3,
   "id": "146f5a29",
   "metadata": {
    "scrolled": true
   },
   "outputs": [],
   "source": [
    "# Generate SQL and the execution results from the plain text\n",
    "text = \"films and film prices that cost below 10 dollars\"\n",
    "db_id = \"cinema\"\n",
    "dataService = DataService(\"spider\")"
   ]
  },
  {
   "cell_type": "code",
   "execution_count": 4,
   "id": "3e65ab9c",
   "metadata": {},
   "outputs": [],
   "source": [
    "# read spider dataset\n",
    "dataset_type = \"train_spider\"\n",
    "# dataset_type=\"dev\"\n",
    "with open(f\"../backend/app/data/dataset/spider/{dataset_type}.json\", \"r\") as f:\n",
    "    spider_data = json.load(f)\n",
    "df = pd.DataFrame(spider_data)"
   ]
  },
  {
   "cell_type": "code",
   "execution_count": 5,
   "id": "99bc6744",
   "metadata": {
    "scrolled": false
   },
   "outputs": [
    {
     "data": {
      "text/html": [
       "<div>\n",
       "<style scoped>\n",
       "    .dataframe tbody tr th:only-of-type {\n",
       "        vertical-align: middle;\n",
       "    }\n",
       "\n",
       "    .dataframe tbody tr th {\n",
       "        vertical-align: top;\n",
       "    }\n",
       "\n",
       "    .dataframe thead th {\n",
       "        text-align: right;\n",
       "    }\n",
       "</style>\n",
       "<table border=\"1\" class=\"dataframe\">\n",
       "  <thead>\n",
       "    <tr style=\"text-align: right;\">\n",
       "      <th></th>\n",
       "      <th>db_id</th>\n",
       "      <th>query</th>\n",
       "      <th>query_toks</th>\n",
       "      <th>query_toks_no_value</th>\n",
       "      <th>question</th>\n",
       "      <th>question_toks</th>\n",
       "      <th>sql</th>\n",
       "    </tr>\n",
       "  </thead>\n",
       "  <tbody>\n",
       "    <tr>\n",
       "      <th>0</th>\n",
       "      <td>department_management</td>\n",
       "      <td>SELECT count(*) FROM head WHERE age  &gt;  56</td>\n",
       "      <td>[SELECT, count, (, *, ), FROM, head, WHERE, ag...</td>\n",
       "      <td>[select, count, (, *, ), from, head, where, ag...</td>\n",
       "      <td>How many heads of the departments are older th...</td>\n",
       "      <td>[How, many, heads, of, the, departments, are, ...</td>\n",
       "      <td>{'from': {'table_units': [['table_unit', 1]], ...</td>\n",
       "    </tr>\n",
       "    <tr>\n",
       "      <th>1</th>\n",
       "      <td>department_management</td>\n",
       "      <td>SELECT name ,  born_state ,  age FROM head ORD...</td>\n",
       "      <td>[SELECT, name, ,, born_state, ,, age, FROM, he...</td>\n",
       "      <td>[select, name, ,, born_state, ,, age, from, he...</td>\n",
       "      <td>List the name, born state and age of the heads...</td>\n",
       "      <td>[List, the, name, ,, born, state, and, age, of...</td>\n",
       "      <td>{'from': {'table_units': [['table_unit', 1]], ...</td>\n",
       "    </tr>\n",
       "    <tr>\n",
       "      <th>2</th>\n",
       "      <td>department_management</td>\n",
       "      <td>SELECT creation ,  name ,  budget_in_billions ...</td>\n",
       "      <td>[SELECT, creation, ,, name, ,, budget_in_billi...</td>\n",
       "      <td>[select, creation, ,, name, ,, budget_in_billi...</td>\n",
       "      <td>List the creation year, name and budget of eac...</td>\n",
       "      <td>[List, the, creation, year, ,, name, and, budg...</td>\n",
       "      <td>{'from': {'table_units': [['table_unit', 0]], ...</td>\n",
       "    </tr>\n",
       "    <tr>\n",
       "      <th>3</th>\n",
       "      <td>department_management</td>\n",
       "      <td>SELECT max(budget_in_billions) ,  min(budget_i...</td>\n",
       "      <td>[SELECT, max, (, budget_in_billions, ), ,, min...</td>\n",
       "      <td>[select, max, (, budget_in_billions, ), ,, min...</td>\n",
       "      <td>What are the maximum and minimum budget of the...</td>\n",
       "      <td>[What, are, the, maximum, and, minimum, budget...</td>\n",
       "      <td>{'from': {'table_units': [['table_unit', 0]], ...</td>\n",
       "    </tr>\n",
       "    <tr>\n",
       "      <th>4</th>\n",
       "      <td>department_management</td>\n",
       "      <td>SELECT avg(num_employees) FROM department WHER...</td>\n",
       "      <td>[SELECT, avg, (, num_employees, ), FROM, depar...</td>\n",
       "      <td>[select, avg, (, num_employees, ), from, depar...</td>\n",
       "      <td>What is the average number of employees of the...</td>\n",
       "      <td>[What, is, the, average, number, of, employees...</td>\n",
       "      <td>{'from': {'table_units': [['table_unit', 0]], ...</td>\n",
       "    </tr>\n",
       "  </tbody>\n",
       "</table>\n",
       "</div>"
      ],
      "text/plain": [
       "                   db_id                                              query  \\\n",
       "0  department_management         SELECT count(*) FROM head WHERE age  >  56   \n",
       "1  department_management  SELECT name ,  born_state ,  age FROM head ORD...   \n",
       "2  department_management  SELECT creation ,  name ,  budget_in_billions ...   \n",
       "3  department_management  SELECT max(budget_in_billions) ,  min(budget_i...   \n",
       "4  department_management  SELECT avg(num_employees) FROM department WHER...   \n",
       "\n",
       "                                          query_toks  \\\n",
       "0  [SELECT, count, (, *, ), FROM, head, WHERE, ag...   \n",
       "1  [SELECT, name, ,, born_state, ,, age, FROM, he...   \n",
       "2  [SELECT, creation, ,, name, ,, budget_in_billi...   \n",
       "3  [SELECT, max, (, budget_in_billions, ), ,, min...   \n",
       "4  [SELECT, avg, (, num_employees, ), FROM, depar...   \n",
       "\n",
       "                                 query_toks_no_value  \\\n",
       "0  [select, count, (, *, ), from, head, where, ag...   \n",
       "1  [select, name, ,, born_state, ,, age, from, he...   \n",
       "2  [select, creation, ,, name, ,, budget_in_billi...   \n",
       "3  [select, max, (, budget_in_billions, ), ,, min...   \n",
       "4  [select, avg, (, num_employees, ), from, depar...   \n",
       "\n",
       "                                            question  \\\n",
       "0  How many heads of the departments are older th...   \n",
       "1  List the name, born state and age of the heads...   \n",
       "2  List the creation year, name and budget of eac...   \n",
       "3  What are the maximum and minimum budget of the...   \n",
       "4  What is the average number of employees of the...   \n",
       "\n",
       "                                       question_toks  \\\n",
       "0  [How, many, heads, of, the, departments, are, ...   \n",
       "1  [List, the, name, ,, born, state, and, age, of...   \n",
       "2  [List, the, creation, year, ,, name, and, budg...   \n",
       "3  [What, are, the, maximum, and, minimum, budget...   \n",
       "4  [What, is, the, average, number, of, employees...   \n",
       "\n",
       "                                                 sql  \n",
       "0  {'from': {'table_units': [['table_unit', 1]], ...  \n",
       "1  {'from': {'table_units': [['table_unit', 1]], ...  \n",
       "2  {'from': {'table_units': [['table_unit', 0]], ...  \n",
       "3  {'from': {'table_units': [['table_unit', 0]], ...  \n",
       "4  {'from': {'table_units': [['table_unit', 0]], ...  "
      ]
     },
     "execution_count": 5,
     "metadata": {},
     "output_type": "execute_result"
    }
   ],
   "source": [
    "df.head()"
   ]
  },
  {
   "cell_type": "markdown",
   "id": "a3c54b0b",
   "metadata": {},
   "source": [
    "## Parse SQL using spider parser\n",
    "### Assumptions:\n",
    "  1. sql is correct\n",
    "  2. only table name has alias\n",
    "  3. only one intersect/union/except\n",
    "\n",
    "- `val`: number(float)/string(str)/sql(dict)\n",
    "- `col_unit`: (agg_id, col_id, isDistinct(bool))\n",
    "- `val_unit`: (unit_op, col_unit1, col_unit2)\n",
    "- `table_unit`: (table_type, table_id/sql) :table_type: table_unit, sql\n",
    "- `cond_unit`: (not_op, op_id, val_unit, val1, val2)\n",
    "- `condition`: [cond_unit1, 'and'/'or', cond_unit2, ...]\n",
    "\n",
    "```\n",
    "sql {\n",
    "  'select': (isDistinct(bool), [(agg_id, val_unit), (agg_id, val_unit), ...])\n",
    "  'from': {'table_units': [table_unit1, table_unit2, ...], 'conds': condition}\n",
    "  'where': condition\n",
    "  'groupBy': [col_unit1, col_unit2, ...]\n",
    "  'orderBy': ('asc'/'desc', [val_unit1, val_unit2, ...])\n",
    "  'having': condition\n",
    "  'limit': None/limit value\n",
    "  'intersect': None/sql\n",
    "  'except': None/sql\n",
    "  'union': None/sql\n",
    "}\n",
    "```"
   ]
  },
  {
   "cell_type": "code",
   "execution_count": 6,
   "id": "07f792dd",
   "metadata": {},
   "outputs": [],
   "source": [
    "agg_dict = {\n",
    "    'none': '',\n",
    "    'max': 'the maximum of ',\n",
    "    'min': 'the minimum of ',\n",
    "    'count': 'the number of ',\n",
    "    'sum': 'the sum of ',\n",
    "    'avg': 'the average number of '\n",
    "}"
   ]
  },
  {
   "cell_type": "code",
   "execution_count": 7,
   "id": "9152c3f8",
   "metadata": {},
   "outputs": [],
   "source": [
    "where_dict = {\n",
    "    '=': 'equals to', \n",
    "    '>': 'is larger than', \n",
    "    '<': 'is smaller than', \n",
    "    '>=': 'is larger than or equals to', \n",
    "    '<=': 'is smaller than or equals to', \n",
    "    '!=': 'not equals to',\n",
    "    'between': 'is between',\n",
    "    'where': 'where',\n",
    "    'in': 'in',\n",
    "    'like': 'like', \n",
    "    'is': 'is', \n",
    "    'exists': 'exists',\n",
    "}"
   ]
  },
  {
   "cell_type": "code",
   "execution_count": 8,
   "id": "52d93afb",
   "metadata": {},
   "outputs": [],
   "source": [
    "def is_none(token):\n",
    "    return token is None or token == 'none' or token == ''"
   ]
  },
  {
   "cell_type": "code",
   "execution_count": 9,
   "id": "a6771df7",
   "metadata": {},
   "outputs": [],
   "source": [
    "def col_id2text(col_id, agg_id=None):\n",
    "    col_text = col_id.replace(':', '\\'s')\n",
    "    if agg_id == 'count' and '*' in col_text:\n",
    "        col_text = col_text.replace('*', 'entries')\n",
    "    else:\n",
    "        col_text = col_text.replace('*', 'all information')\n",
    "    return col_text\n",
    "\n",
    "def col_unit2text(col_unit):\n",
    "    if is_none(col_unit):\n",
    "        return ''\n",
    "    agg_id, col_id, isDistinct = col_unit\n",
    "    # TODO: isDistinct is ignored\n",
    "    return agg_dict[agg_id]+col_id2text(col_id, agg_id)"
   ]
  },
  {
   "cell_type": "code",
   "execution_count": 10,
   "id": "dd77cc3f",
   "metadata": {},
   "outputs": [],
   "source": [
    "def val_unit2text(val_unit):\n",
    "    if is_none(val_unit):\n",
    "        return ''\n",
    "    unit_op, col_unit1, col_unit2 = val_unit\n",
    "    if is_none(unit_op):\n",
    "        return col_unit2text(col_unit1)\n",
    "    else:\n",
    "        return col_unit2text(col_unit1)+\" {} \".format(unit_op)+col_unit2text(col_unit2)"
   ]
  },
  {
   "cell_type": "code",
   "execution_count": 11,
   "id": "2a0b0f7c",
   "metadata": {},
   "outputs": [
    {
     "data": {
      "text/plain": [
       "\"department's ranking\""
      ]
     },
     "execution_count": 11,
     "metadata": {},
     "output_type": "execute_result"
    }
   ],
   "source": [
    "val_unit2text(('none', ('none', 'department: ranking', ''), None))"
   ]
  },
  {
   "cell_type": "code",
   "execution_count": 12,
   "id": "2ef3fc83",
   "metadata": {},
   "outputs": [],
   "source": [
    "def cond_unit2text(cond_unit):\n",
    "    if is_none(cond_unit):\n",
    "        return ''\n",
    "    not_op, op_id, val_unit, val1, val2 = cond_unit\n",
    "    not_text = \" not \" if is_none(not_op) else ''\n",
    "    val2_text = \"\" if is_none(val2) else ' and {}'.format(val2)\n",
    "    return \"{}{} {} {}{}\".format(val_unit2text(val_unit), not_text, \n",
    "                                 where_dict[op_id], val1, val2_text)"
   ]
  },
  {
   "cell_type": "code",
   "execution_count": 13,
   "id": "2bfef0f7",
   "metadata": {},
   "outputs": [
    {
     "data": {
      "text/plain": [
       "\"department's ranking is between 10.0 and 15.0\""
      ]
     },
     "execution_count": 13,
     "metadata": {},
     "output_type": "execute_result"
    }
   ],
   "source": [
    "cond_unit2text((False,\n",
    "  'between',\n",
    "  ('none', ('none', 'department: ranking', ''), None),\n",
    "  10.0,\n",
    "  15.0))"
   ]
  },
  {
   "cell_type": "code",
   "execution_count": 14,
   "id": "4e92a51d",
   "metadata": {},
   "outputs": [],
   "source": [
    "def condition2text(condition):\n",
    "    where_sentence = \"\"\n",
    "    for i, cond_unit in enumerate(where_decoded):\n",
    "        if i % 2 == 1:\n",
    "            where_sentence += \" {} \".format(cond_unit)\n",
    "        else:\n",
    "            where_sentence += cond_unit2text(cond_unit)\n",
    "    return where_sentence"
   ]
  },
  {
   "cell_type": "code",
   "execution_count": 16,
   "id": "79688ced",
   "metadata": {},
   "outputs": [],
   "source": [
    "def select_unit2text(select_unit):\n",
    "    if is_none(select_unit):\n",
    "        return ''\n",
    "    agg_id, val_unit = select_unit\n",
    "    return \"{}{}\".format(agg_dict[agg_id], val_unit2text(val_unit))"
   ]
  },
  {
   "cell_type": "code",
   "execution_count": 17,
   "id": "9d9fea99",
   "metadata": {},
   "outputs": [],
   "source": [
    "def select2text(select):\n",
    "    return ', '.join([select_unit2text(select_unit) for select_unit in select[1]])"
   ]
  },
  {
   "cell_type": "code",
   "execution_count": 18,
   "id": "faa3f7ff",
   "metadata": {},
   "outputs": [
    {
     "data": {
      "text/plain": [
       "'the number of all information'"
      ]
     },
     "execution_count": 18,
     "metadata": {},
     "output_type": "execute_result"
    }
   ],
   "source": [
    "example_select = ('', [('count', ('none', ('none', '*', ''), None))])\n",
    "\n",
    "select2text(example_select)"
   ]
  },
  {
   "cell_type": "code",
   "execution_count": 19,
   "id": "df34fcdb",
   "metadata": {},
   "outputs": [
    {
     "name": "stdout",
     "output_type": "stream",
     "text": [
      "=== begin loading sql parser ===\n",
      "=== finish loading sql parser ===\n"
     ]
    },
    {
     "ename": "NameError",
     "evalue": "name 'decode_sql' is not defined",
     "output_type": "error",
     "traceback": [
      "\u001b[0;31m---------------------------------------------------------------------------\u001b[0m",
      "\u001b[0;31mNameError\u001b[0m                                 Traceback (most recent call last)",
      "\u001b[0;32m/var/folders/5q/cq4h0y4x2854g2bzwlrbtktm0000gn/T/ipykernel_13794/2080317474.py\u001b[0m in \u001b[0;36m<module>\u001b[0;34m\u001b[0m\n\u001b[1;32m      8\u001b[0m \u001b[0;34m\u001b[0m\u001b[0m\n\u001b[1;32m      9\u001b[0m     \u001b[0;31m# decode sql (whole statement)\u001b[0m\u001b[0;34m\u001b[0m\u001b[0;34m\u001b[0m\u001b[0;34m\u001b[0m\u001b[0m\n\u001b[0;32m---> 10\u001b[0;31m     \u001b[0msql_decoded\u001b[0m \u001b[0;34m=\u001b[0m \u001b[0mdecode_sql\u001b[0m\u001b[0;34m.\u001b[0m\u001b[0mdecode_sql\u001b[0m\u001b[0;34m(\u001b[0m\u001b[0msql_parse\u001b[0m\u001b[0;34m,\u001b[0m \u001b[0mtable\u001b[0m\u001b[0;34m)\u001b[0m\u001b[0;34m\u001b[0m\u001b[0;34m\u001b[0m\u001b[0m\n\u001b[0m\u001b[1;32m     11\u001b[0m     \u001b[0mwhere_decoded\u001b[0m \u001b[0;34m=\u001b[0m \u001b[0mdecode_sql\u001b[0m\u001b[0;34m.\u001b[0m\u001b[0mdecode_where\u001b[0m\u001b[0;34m(\u001b[0m\u001b[0msql_parse\u001b[0m\u001b[0;34m[\u001b[0m\u001b[0;34m\"where\"\u001b[0m\u001b[0;34m]\u001b[0m\u001b[0;34m,\u001b[0m \u001b[0mtable\u001b[0m\u001b[0;34m)\u001b[0m\u001b[0;34m\u001b[0m\u001b[0;34m\u001b[0m\u001b[0m\n\u001b[1;32m     12\u001b[0m \u001b[0;34m\u001b[0m\u001b[0m\n",
      "\u001b[0;31mNameError\u001b[0m: name 'decode_sql' is not defined"
     ]
    }
   ],
   "source": [
    "for i in range(20): \n",
    "    row = df.loc[i]\n",
    "    db_id = row[\"db_id\"]\n",
    "    sql = row[\"query\"]\n",
    "    parsed = dataService.parsesql(sql, db_id)\n",
    "    table = parsed[\"table\"]\n",
    "    sql_parse = parsed[\"sql_parse\"]\n",
    "\n",
    "    # decode sql (whole statement)\n",
    "    sql_decoded = decode_sql.decode_sql(sql_parse, table)\n",
    "    where_decoded = decode_sql.decode_where(sql_parse[\"where\"], table)\n",
    "    \n",
    "    select_sentence = select2text(sql_decoded[\"select\"])\n",
    "    where_sentence = condition2text(where_decoded)\n",
    "    print(row['query'])\n",
    "    if where_sentence == \"\":\n",
    "        print(\"Find {}.\".format(select_sentence))\n",
    "    else:\n",
    "        print(\"Find {} where {}.\".format(select_sentence, where_sentence))\n",
    "    print()"
   ]
  },
  {
   "cell_type": "code",
   "execution_count": null,
   "id": "24f9cfa9",
   "metadata": {},
   "outputs": [],
   "source": []
  },
  {
   "cell_type": "code",
   "execution_count": null,
   "id": "0715caca",
   "metadata": {},
   "outputs": [],
   "source": []
  }
 ],
 "metadata": {
  "kernelspec": {
   "display_name": "Python(seqNLI)",
   "language": "python",
   "name": "seqnli"
  },
  "language_info": {
   "codemirror_mode": {
    "name": "ipython",
    "version": 3
   },
   "file_extension": ".py",
   "mimetype": "text/x-python",
   "name": "python",
   "nbconvert_exporter": "python",
   "pygments_lexer": "ipython3",
   "version": "3.7.10"
  }
 },
 "nbformat": 4,
 "nbformat_minor": 5
}
