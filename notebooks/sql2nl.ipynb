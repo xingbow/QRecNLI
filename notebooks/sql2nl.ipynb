{
 "cells": [
  {
   "cell_type": "code",
   "execution_count": null,
   "id": "0c36d96d",
   "metadata": {},
   "outputs": [],
   "source": [
    "import os\n",
    "import re\n",
    "import sys\n",
    "import copy\n",
    "\n",
    "ROOT = os.path.join(os.path.dirname(os.getcwd()), 'backend')\n",
    "if ROOT not in sys.path:\n",
    "    sys.path.append(ROOT)\n",
    "    \n",
    "import json\n",
    "import os\n",
    "import pandas as pd\n",
    "from termcolor import colored\n",
    "import numpy as np\n",
    "from sentence_transformers import SentenceTransformer, util\n",
    "from sklearn.cluster import AgglomerativeClustering\n",
    "model = SentenceTransformer('paraphrase-MiniLM-L6-v2')"
   ]
  },
  {
   "cell_type": "code",
   "execution_count": null,
   "id": "05ff1929",
   "metadata": {},
   "outputs": [],
   "source": [
    "from app.dataService.dataService import DataService"
   ]
  },
  {
   "cell_type": "code",
   "execution_count": null,
   "id": "146f5a29",
   "metadata": {
    "scrolled": true
   },
   "outputs": [],
   "source": [
    "# Generate SQL and the execution results from the plain text\n",
    "text = \"films and film prices that cost below 10 dollars\"\n",
    "db_id = \"cinema\"\n",
    "dataService = DataService(\"spider\")"
   ]
  },
  {
   "cell_type": "code",
   "execution_count": null,
   "id": "3e65ab9c",
   "metadata": {},
   "outputs": [],
   "source": [
    "# read spider dataset\n",
    "dataset_type = \"train_spider\"\n",
    "# dataset_type=\"dev\"\n",
    "with open(f\"../backend/app/data/dataset/spider/{dataset_type}.json\", \"r\") as f:\n",
    "    spider_data = json.load(f)\n",
    "df = pd.DataFrame(spider_data)"
   ]
  },
  {
   "cell_type": "code",
   "execution_count": null,
   "id": "99bc6744",
   "metadata": {},
   "outputs": [],
   "source": [
    "df.head()"
   ]
  },
  {
   "cell_type": "markdown",
   "id": "a3c54b0b",
   "metadata": {},
   "source": [
    "## Parse SQL using spider parser\n",
    "### Assumptions:\n",
    "  1. sql is correct\n",
    "  2. only table name has alias\n",
    "  3. only one intersect/union/except\n",
    "\n",
    "- `val`: number(float)/string(str)/sql(dict)\n",
    "- `col_unit`: (agg_id, col_id, isDistinct(bool))\n",
    "- `val_unit`: (unit_op, col_unit1, col_unit2)\n",
    "- `table_unit`: (table_type, table_id/sql) :table_type: table_unit, sql\n",
    "- `cond_unit`: (not_op, op_id, val_unit, val1, val2)\n",
    "- `condition`: [cond_unit1, 'and'/'or', cond_unit2, ...]\n",
    "\n",
    "```\n",
    "sql {\n",
    "  'select': (isDistinct(bool), [(agg_id, val_unit), (agg_id, val_unit), ...])\n",
    "  'from': {'table_units': [table_unit1, table_unit2, ...], 'conds': condition}\n",
    "  'where': condition\n",
    "  'groupBy': [col_unit1, col_unit2, ...]\n",
    "  'orderBy': ('asc'/'desc', [val_unit1, val_unit2, ...])\n",
    "  'having': condition\n",
    "  'limit': None/limit value\n",
    "  'intersect': None/sql\n",
    "  'except': None/sql\n",
    "  'union': None/sql\n",
    "}\n",
    "```"
   ]
  },
  {
   "cell_type": "code",
   "execution_count": null,
   "id": "52e82eac-6096-4f36-b0a3-385468299303",
   "metadata": {},
   "outputs": [],
   "source": [
    "style = \\\n",
    "\"\"\"\n",
    "<style>\n",
    "    span.column-id {\n",
    "        background: gold;\n",
    "    }\n",
    "    span.entity-id {\n",
    "        background: #aaa;\n",
    "    }\n",
    "</style>\n",
    "\"\"\""
   ]
  },
  {
   "cell_type": "code",
   "execution_count": null,
   "id": "1089d0c1",
   "metadata": {},
   "outputs": [],
   "source": [
    "from app.dataService.utils.processSQL import decode_sql, sql2text\n",
    "from IPython.display import display\n",
    "\n",
    "\n",
    "for i in range(20): \n",
    "    row = df.loc[i]\n",
    "    parsed = dataService.parsesql(row[\"query\"], row[\"db_id\"])\n",
    "\n",
    "    # decode sql (whole statement)\n",
    "    sql_decoded = decode_sql(parsed[\"sql_parse\"], parsed[\"table\"])\n",
    "    display({'text/html': style + sql2text(sql_decoded)}, raw=True)"
   ]
  }
 ],
 "metadata": {
  "kernelspec": {
   "display_name": "Python(seqNLI)",
   "language": "python",
   "name": "seqnli"
  },
  "language_info": {
   "codemirror_mode": {
    "name": "ipython",
    "version": 3
   },
   "file_extension": ".py",
   "mimetype": "text/x-python",
   "name": "python",
   "nbconvert_exporter": "python",
   "pygments_lexer": "ipython3",
   "version": "3.7.10"
  }
 },
 "nbformat": 4,
 "nbformat_minor": 5
}
