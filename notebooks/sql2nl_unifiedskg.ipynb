{
 "cells": [
  {
   "cell_type": "code",
   "execution_count": 12,
   "id": "bf01026a",
   "metadata": {
    "scrolled": true
   },
   "outputs": [],
   "source": [
    "prefix = \"../backend/app/data/\"\n",
    "import os, sys, json, time\n",
    "sys.path.append(os.path.join(prefix,\"model/UnifiedSKG\"))\n",
    "import warnings\n",
    "warnings.filterwarnings(\"ignore\")\n",
    "import torch\n",
    "from transformers import AutoTokenizer\n",
    "\n",
    "from utils.configue import Configure\n",
    "from models.unified.prefixtuning import Model\n",
    "\n",
    "from filelock import FileLock\n",
    "import nltk\n",
    "with FileLock(\".lock\") as lock:\n",
    "    nltk.download(\"punkt\", quiet=True)\n",
    "    nltk.download(\"stopwords\", quiet=True)"
   ]
  },
  {
   "cell_type": "code",
   "execution_count": 13,
   "id": "2ea65c7e",
   "metadata": {},
   "outputs": [],
   "source": [
    "def play(txt, model, tokenizer):\n",
    "  print(\"=====❓Request=====\")\n",
    "  print(txt)\n",
    "  tokenized_txt = tokenizer([txt], max_length=1024, padding=\"max_length\", truncation=True)\n",
    "  pred = tokenizer.batch_decode(\n",
    "      model.generate(\n",
    "        torch.LongTensor(tokenized_txt.data['input_ids']),\n",
    "        torch.LongTensor(tokenized_txt.data['attention_mask']),\n",
    "        num_beams=1, \n",
    "        max_length=256\n",
    "        ), \n",
    "      skip_special_tokens=True \n",
    "  ) # More details see utils/dataset.py and utils/trainer.py\n",
    "  print(\"=====💡Answer=====\")\n",
    "  print(pred)"
   ]
  },
  {
   "cell_type": "code",
   "execution_count": 15,
   "id": "5b5cf8d4",
   "metadata": {
    "scrolled": true
   },
   "outputs": [
    {
     "name": "stdout",
     "output_type": "stream",
     "text": [
      "prefix-tuning sequence length is 10.\n"
     ]
    }
   ],
   "source": [
    "# load model\n",
    "tokenizer = AutoTokenizer.from_pretrained(\"hkunlp/from_all_T5_base_prefix_sql2text2\", use_fast=False)\n",
    "model_config_path = os.path.abspath(os.path.join(prefix,\"model/UnifiedSKG/configure/Salesforce/T5_base_prefix_sql2text.cfg\"))\n",
    "args = Configure.Get('/data2/xingbo/chi2022/UnifiedSKG/configure/Salesforce/T5_base_prefix_sql2text.cfg')\n",
    "model = Model(args)\n",
    "model.load(\"hkunlp/from_all_T5_base_prefix_sql2text2\")"
   ]
  },
  {
   "cell_type": "code",
   "execution_count": 17,
   "id": "83fa4e12",
   "metadata": {},
   "outputs": [
    {
     "name": "stdout",
     "output_type": "stream",
     "text": [
      "=====❓Request=====\n",
      "SELECT name ,  country ,  age FROM singer ORDER BY age DESC ; structed knowledge: \n",
      "=====💡Answer=====\n",
      "['What are the names, countries, and ages of all singers, ordered by age descending?']\n"
     ]
    }
   ],
   "source": [
    "struct_in = \"\"\n",
    "text_in = \"SELECT name ,  country ,  age FROM singer ORDER BY age DESC\"\n",
    "play(\"{} ; structed knowledge: {}\".format(text_in, struct_in), model, tokenizer)"
   ]
  },
  {
   "cell_type": "code",
   "execution_count": null,
   "id": "a45be5ff",
   "metadata": {},
   "outputs": [],
   "source": []
  }
 ],
 "metadata": {
  "kernelspec": {
   "display_name": "Python [conda env:chi2023] *",
   "language": "python",
   "name": "conda-env-chi2023-py"
  },
  "language_info": {
   "codemirror_mode": {
    "name": "ipython",
    "version": 3
   },
   "file_extension": ".py",
   "mimetype": "text/x-python",
   "name": "python",
   "nbconvert_exporter": "python",
   "pygments_lexer": "ipython3",
   "version": "3.7.11"
  }
 },
 "nbformat": 4,
 "nbformat_minor": 5
}
